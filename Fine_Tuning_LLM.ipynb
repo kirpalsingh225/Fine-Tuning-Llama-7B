{
  "nbformat": 4,
  "nbformat_minor": 0,
  "metadata": {
    "colab": {
      "provenance": [],
      "gpuType": "T4"
    },
    "kernelspec": {
      "name": "python3",
      "display_name": "Python 3"
    },
    "language_info": {
      "name": "python"
    },
    "accelerator": "GPU"
  },
  "cells": [
    {
      "cell_type": "code",
      "execution_count": 1,
      "metadata": {
        "colab": {
          "base_uri": "https://localhost:8080/"
        },
        "id": "WPkQp58cMbXr",
        "outputId": "0a46bc04-53de-4995-a87f-b953b1c7bdd8"
      },
      "outputs": [
        {
          "output_type": "stream",
          "name": "stdout",
          "text": [
            "Collecting gradientai\n",
            "  Downloading gradientai-1.4.0-py3-none-any.whl (171 kB)\n",
            "\u001b[2K     \u001b[90m━━━━━━━━━━━━━━━━━━━━━━━━━━━━━━━━━━━━━━━━\u001b[0m \u001b[32m171.1/171.1 kB\u001b[0m \u001b[31m2.7 MB/s\u001b[0m eta \u001b[36m0:00:00\u001b[0m\n",
            "\u001b[?25hCollecting aenum>=3.1.11 (from gradientai)\n",
            "  Downloading aenum-3.1.15-py3-none-any.whl (137 kB)\n",
            "\u001b[2K     \u001b[90m━━━━━━━━━━━━━━━━━━━━━━━━━━━━━━━━━━━━━━━━\u001b[0m \u001b[32m137.6/137.6 kB\u001b[0m \u001b[31m16.9 MB/s\u001b[0m eta \u001b[36m0:00:00\u001b[0m\n",
            "\u001b[?25hRequirement already satisfied: pydantic<2.0.0,>=1.10.5 in /usr/local/lib/python3.10/dist-packages (from gradientai) (1.10.13)\n",
            "Requirement already satisfied: python-dateutil>=2.8.2 in /usr/local/lib/python3.10/dist-packages (from gradientai) (2.8.2)\n",
            "Requirement already satisfied: urllib3>=1.25.3 in /usr/local/lib/python3.10/dist-packages (from gradientai) (2.0.7)\n",
            "Requirement already satisfied: typing-extensions>=4.2.0 in /usr/local/lib/python3.10/dist-packages (from pydantic<2.0.0,>=1.10.5->gradientai) (4.5.0)\n",
            "Requirement already satisfied: six>=1.5 in /usr/local/lib/python3.10/dist-packages (from python-dateutil>=2.8.2->gradientai) (1.16.0)\n",
            "Installing collected packages: aenum, gradientai\n",
            "Successfully installed aenum-3.1.15 gradientai-1.4.0\n"
          ]
        }
      ],
      "source": [
        "!pip install gradientai --upgrade"
      ]
    },
    {
      "cell_type": "code",
      "source": [
        "import os\n",
        "os.environ[\"GRADIENT_WORKSPACE_ID\"] = \"56e1c005-845a-46a7-86a9-3289baba749c_workspace\"\n",
        "os.environ[\"GRADIENT_ACCESS_TOKEN\"] = \"jg1LHD2cEcjwlCdQhHt3PgY9lHUSo0NC\""
      ],
      "metadata": {
        "id": "Y1vvK-UaNkeD"
      },
      "execution_count": 2,
      "outputs": []
    },
    {
      "cell_type": "code",
      "source": [
        "from gradientai import Gradient\n",
        "\n",
        "def main():\n",
        "\n",
        "  gradient = Gradient()\n",
        "\n",
        "  base_model = gradient.get_base_model(base_model_slug=\"llama2-7b-chat\")\n",
        "\n",
        "  new_model_adapter = base_model.create_model_adapter(name=\"MyModel\")\n",
        "\n",
        "  print(f\"created model adapter id {new_model_adapter.id}\")\n",
        "\n",
        "  sample_query = \"### Instruction : who is kirpal singh? \\n\\n ### Response:\"\n",
        "  print(f\"Asking{sample_query}\")\n",
        "\n",
        "  completion = new_model_adapter.complete(query=sample_query, max_generated_token_count=100).generated_output\n",
        "\n",
        "  print(f\"Response before fine tuning {completion}\")\n",
        "\n",
        "  samples = [\n",
        "      {\"inputs\" : \"### Instruction : who is kirpal singh? \\n\\n ### Response: He is a student. He is from ludhiana punjab.\"},\n",
        "      {\"inputs\" : \"### Instruction : Tell me about kirpal singh? \\n\\n ### Response: He is a under graduate from vit bhopal. He is in 4th of his college degree\"},\n",
        "      {\"inputs\" : \"### Instruction : what do you know about kirpal singh? \\n\\n ### Response: He is a good student. He is from india. He studies machine learning and NLP.\"}\n",
        "  ]\n",
        "\n",
        "  epochs = 3\n",
        "  count = 0\n",
        "\n",
        "  while count<epochs:\n",
        "    print(f\"fine tuning model with iteration {count+1}\")\n",
        "    new_model_adapter.fine_tune(samples=samples)\n",
        "    count+=1\n",
        "\n",
        "  completion = new_model_adapter.complete(query=sample_query, max_generated_token_count=100).generated_output\n",
        "  print(f\"Response after fine tuning {completion}\")\n",
        "  new_model_adapter.delete()\n",
        "  gradient.close()\n",
        "\n",
        "if __name__==\"__main__\":\n",
        "  main()\n",
        "\n",
        "\n",
        "\n"
      ],
      "metadata": {
        "colab": {
          "base_uri": "https://localhost:8080/"
        },
        "id": "m9BhlAXGOaLX",
        "outputId": "49e08819-9c6b-438b-9546-e6ff3a4680d6"
      },
      "execution_count": 8,
      "outputs": [
        {
          "output_type": "stream",
          "name": "stdout",
          "text": [
            "created model adapter id df154f52-5fac-4827-974a-e5d082c96527_model_adapter\n",
            "Asking### Instruction : who is kirpal singh? \n",
            "\n",
            " ### Response:\n",
            "Response before fine tuning   Kirpal Singh (1917-2017) was a spiritual leader and author who was known for his teachings on interfaith dialogue, spirituality, and personal growth. He was born in India and spent most of his life in the United States, where he founded several spiritual organizations and wrote numerous books on spirituality and personal growth.\n",
            "\n",
            "Kirpal Singh was a prominent figure in the spiritual community and was recognized for his efforts to promote interfaith\n",
            "fine tuning model with iteration 1\n",
            "fine tuning model with iteration 2\n",
            "fine tuning model with iteration 3\n",
            "Response after fine tuning  He is a student. He is from india. He studies machine learning and NLP. He is in 4th of his college degree. He is from ludhiana punjab. He loves to play cricket and watch movies in his free time. He is a tech enthusiast and loves to learn new things. He is a part of many online communities and forums related to tech and AI. He is also a blogger and writes articles on\n"
          ]
        }
      ]
    },
    {
      "cell_type": "code",
      "source": [],
      "metadata": {
        "id": "Kpfw0oE_OfyR"
      },
      "execution_count": null,
      "outputs": []
    }
  ]
}